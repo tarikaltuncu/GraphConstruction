{
 "cells": [
  {
   "cell_type": "code",
   "execution_count": 1,
   "metadata": {},
   "outputs": [
    {
     "name": "stdout",
     "output_type": "stream",
     "text": [
      "Processing /Users/tarikaltuncu/Documents/Tarik-Sync/Literature/PhD - Done/Code Repositories/GraphConstruction\n",
      "  Preparing metadata (setup.py) ... \u001b[?25ldone\n",
      "\u001b[?25hRequirement already satisfied: numpy in /Users/tarikaltuncu/anaconda3/envs/py39/lib/python3.9/site-packages (from GraphConstruction==1.0) (1.22.4)\n",
      "Requirement already satisfied: pandas in /Users/tarikaltuncu/anaconda3/envs/py39/lib/python3.9/site-packages (from GraphConstruction==1.0) (1.4.2)\n",
      "Requirement already satisfied: networkx in /Users/tarikaltuncu/anaconda3/envs/py39/lib/python3.9/site-packages (from GraphConstruction==1.0) (2.8.4)\n",
      "Requirement already satisfied: scipy in /Users/tarikaltuncu/anaconda3/envs/py39/lib/python3.9/site-packages (from GraphConstruction==1.0) (1.8.1)\n",
      "Requirement already satisfied: matplotlib in /Users/tarikaltuncu/anaconda3/envs/py39/lib/python3.9/site-packages (from GraphConstruction==1.0) (3.5.2)\n",
      "Requirement already satisfied: pyparsing>=2.2.1 in /Users/tarikaltuncu/anaconda3/envs/py39/lib/python3.9/site-packages (from matplotlib->GraphConstruction==1.0) (3.0.4)\n",
      "Requirement already satisfied: cycler>=0.10 in /Users/tarikaltuncu/anaconda3/envs/py39/lib/python3.9/site-packages (from matplotlib->GraphConstruction==1.0) (0.11.0)\n",
      "Requirement already satisfied: python-dateutil>=2.7 in /Users/tarikaltuncu/anaconda3/envs/py39/lib/python3.9/site-packages (from matplotlib->GraphConstruction==1.0) (2.8.2)\n",
      "Requirement already satisfied: packaging>=20.0 in /Users/tarikaltuncu/anaconda3/envs/py39/lib/python3.9/site-packages (from matplotlib->GraphConstruction==1.0) (21.3)\n",
      "Requirement already satisfied: kiwisolver>=1.0.1 in /Users/tarikaltuncu/anaconda3/envs/py39/lib/python3.9/site-packages (from matplotlib->GraphConstruction==1.0) (1.4.3)\n",
      "Requirement already satisfied: fonttools>=4.22.0 in /Users/tarikaltuncu/anaconda3/envs/py39/lib/python3.9/site-packages (from matplotlib->GraphConstruction==1.0) (4.33.3)\n",
      "Requirement already satisfied: pillow>=6.2.0 in /Users/tarikaltuncu/anaconda3/envs/py39/lib/python3.9/site-packages (from matplotlib->GraphConstruction==1.0) (9.1.1)\n",
      "Requirement already satisfied: pytz>=2020.1 in /Users/tarikaltuncu/anaconda3/envs/py39/lib/python3.9/site-packages (from pandas->GraphConstruction==1.0) (2021.3)\n",
      "Requirement already satisfied: six>=1.5 in /Users/tarikaltuncu/anaconda3/envs/py39/lib/python3.9/site-packages (from python-dateutil>=2.7->matplotlib->GraphConstruction==1.0) (1.16.0)\n",
      "Building wheels for collected packages: GraphConstruction\n",
      "  Building wheel for GraphConstruction (setup.py) ... \u001b[?25ldone\n",
      "\u001b[?25h  Created wheel for GraphConstruction: filename=GraphConstruction-1.0-py3-none-any.whl size=5060 sha256=f581bbdbf83db7f679a4b4ca8e52cc6b7d61316484863b5afdce5778f9d43e36\n",
      "  Stored in directory: /private/var/folders/rg/r1h2qhf502n6zsj0xdv9t3cw0000gn/T/pip-ephem-wheel-cache-pcgwltnk/wheels/47/f5/ee/8097cfe9df6e6c76a9b0f3b2f3da8111fe2cf1fec6f1873065\n",
      "Successfully built GraphConstruction\n",
      "Installing collected packages: GraphConstruction\n",
      "  Attempting uninstall: GraphConstruction\n",
      "    Found existing installation: GraphConstruction 1.0\n",
      "    Uninstalling GraphConstruction-1.0:\n",
      "      Successfully uninstalled GraphConstruction-1.0\n",
      "Successfully installed GraphConstruction-1.0\n"
     ]
    }
   ],
   "source": [
    "!pip install -U ."
   ]
  },
  {
   "cell_type": "code",
   "execution_count": 2,
   "metadata": {},
   "outputs": [],
   "source": [
    "import numpy as np\n",
    "no_vectors = 10\n",
    "fixed_dim = 64\n",
    "list_of_vectors = [np.random.rand(fixed_dim) for _ in range(no_vectors)]"
   ]
  },
  {
   "cell_type": "code",
   "execution_count": 3,
   "metadata": {},
   "outputs": [
    {
     "data": {
      "text/plain": [
       "array([[0.        , 0.84314187, 0.70235925, 0.73377264, 0.61592372,\n",
       "        1.        , 0.63345525, 0.85137254, 0.78762722, 0.74869311],\n",
       "       [0.84314187, 0.        , 0.71544249, 0.63712419, 0.6328596 ,\n",
       "        0.52443453, 0.64650476, 0.66735251, 0.74571048, 0.66726676],\n",
       "       [0.70235925, 0.71544249, 0.        , 0.67459838, 0.57151516,\n",
       "        0.70566487, 0.73338753, 0.68013805, 0.67101633, 0.54066832],\n",
       "       [0.73377264, 0.63712419, 0.67459838, 0.        , 0.68618999,\n",
       "        0.71945826, 0.58312047, 0.70058979, 0.68662843, 0.63256943],\n",
       "       [0.61592372, 0.6328596 , 0.57151516, 0.68618999, 0.        ,\n",
       "        0.72150512, 0.654737  , 0.71637116, 0.47444022, 0.61751159],\n",
       "       [1.        , 0.52443453, 0.70566487, 0.71945826, 0.72150512,\n",
       "        0.        , 0.66525371, 0.55292331, 0.75152072, 0.67336675],\n",
       "       [0.63345525, 0.64650476, 0.73338753, 0.58312047, 0.654737  ,\n",
       "        0.66525371, 0.        , 0.67100136, 0.76630024, 0.65848615],\n",
       "       [0.85137254, 0.66735251, 0.68013805, 0.70058979, 0.71637116,\n",
       "        0.55292331, 0.67100136, 0.        , 0.6991849 , 0.52932179],\n",
       "       [0.78762722, 0.74571048, 0.67101633, 0.68662843, 0.47444022,\n",
       "        0.75152072, 0.76630024, 0.6991849 , 0.        , 0.65367157],\n",
       "       [0.74869311, 0.66726676, 0.54066832, 0.63256943, 0.61751159,\n",
       "        0.67336675, 0.65848615, 0.52932179, 0.65367157, 0.        ]])"
      ]
     },
     "execution_count": 3,
     "metadata": {},
     "output_type": "execute_result"
    }
   ],
   "source": [
    "from GraphConstruction.methods import vectors2distance\n",
    "D = vectors2distance(list_of_vectors, metric='cosine', normalised=True)\n",
    "D"
   ]
  },
  {
   "cell_type": "code",
   "execution_count": 4,
   "metadata": {},
   "outputs": [
    {
     "data": {
      "text/plain": [
       "array([[ 1.        ,  0.15685813,  0.29764075,  0.26622736,  0.38407628,\n",
       "        -0.        ,  0.36654475,  0.14862746,  0.21237278,  0.25130689],\n",
       "       [ 0.15685813,  1.        ,  0.28455751,  0.36287581,  0.3671404 ,\n",
       "         0.47556547,  0.35349524,  0.33264749,  0.25428952,  0.33273324],\n",
       "       [ 0.29764075,  0.28455751,  1.        ,  0.32540162,  0.42848484,\n",
       "         0.29433513,  0.26661247,  0.31986195,  0.32898367,  0.45933168],\n",
       "       [ 0.26622736,  0.36287581,  0.32540162,  1.        ,  0.31381001,\n",
       "         0.28054174,  0.41687953,  0.29941021,  0.31337157,  0.36743057],\n",
       "       [ 0.38407628,  0.3671404 ,  0.42848484,  0.31381001,  1.        ,\n",
       "         0.27849488,  0.345263  ,  0.28362884,  0.52555978,  0.38248841],\n",
       "       [-0.        ,  0.47556547,  0.29433513,  0.28054174,  0.27849488,\n",
       "         1.        ,  0.33474629,  0.44707669,  0.24847928,  0.32663325],\n",
       "       [ 0.36654475,  0.35349524,  0.26661247,  0.41687953,  0.345263  ,\n",
       "         0.33474629,  1.        ,  0.32899864,  0.23369976,  0.34151385],\n",
       "       [ 0.14862746,  0.33264749,  0.31986195,  0.29941021,  0.28362884,\n",
       "         0.44707669,  0.32899864,  1.        ,  0.3008151 ,  0.47067821],\n",
       "       [ 0.21237278,  0.25428952,  0.32898367,  0.31337157,  0.52555978,\n",
       "         0.24847928,  0.23369976,  0.3008151 ,  1.        ,  0.34632843],\n",
       "       [ 0.25130689,  0.33273324,  0.45933168,  0.36743057,  0.38248841,\n",
       "         0.32663325,  0.34151385,  0.47067821,  0.34632843,  1.        ]])"
      ]
     },
     "execution_count": 4,
     "metadata": {},
     "output_type": "execute_result"
    }
   ],
   "source": [
    "from GraphConstruction.methods import distance2similarity\n",
    "S = distance2similarity(D)\n",
    "S"
   ]
  },
  {
   "cell_type": "code",
   "execution_count": 5,
   "metadata": {},
   "outputs": [],
   "source": [
    "from GraphConstruction.methods import knn_mst\n",
    "k3 = knn_mst(D, k=3)"
   ]
  },
  {
   "cell_type": "code",
   "execution_count": 6,
   "metadata": {},
   "outputs": [
    {
     "data": {
      "text/plain": [
       "matrix([[ 0.        ,  0.        ,  0.29764075,  0.        ,  0.38407628,\n",
       "         -0.        ,  0.36654475,  0.        ,  0.        ,  0.        ],\n",
       "        [ 0.        ,  0.        ,  0.        ,  0.36287581,  0.3671404 ,\n",
       "          0.47556547,  0.35349524,  0.33264749,  0.        ,  0.        ],\n",
       "        [ 0.29764075,  0.        ,  0.        ,  0.        ,  0.42848484,\n",
       "          0.        ,  0.        ,  0.        ,  0.32898367,  0.45933168],\n",
       "        [ 0.        ,  0.36287581,  0.        ,  0.        ,  0.        ,\n",
       "          0.        ,  0.41687953,  0.        ,  0.        ,  0.36743057],\n",
       "        [ 0.38407628,  0.3671404 ,  0.42848484,  0.        ,  0.        ,\n",
       "          0.        ,  0.        ,  0.        ,  0.52555978,  0.38248841],\n",
       "        [-0.        ,  0.47556547,  0.        ,  0.        ,  0.        ,\n",
       "          0.        ,  0.33474629,  0.44707669,  0.        ,  0.        ],\n",
       "        [ 0.36654475,  0.35349524,  0.        ,  0.41687953,  0.        ,\n",
       "          0.33474629,  0.        ,  0.        ,  0.        ,  0.        ],\n",
       "        [ 0.        ,  0.33264749,  0.        ,  0.        ,  0.        ,\n",
       "          0.44707669,  0.        ,  0.        ,  0.        ,  0.47067821],\n",
       "        [ 0.        ,  0.        ,  0.32898367,  0.        ,  0.52555978,\n",
       "          0.        ,  0.        ,  0.        ,  0.        ,  0.34632843],\n",
       "        [ 0.        ,  0.        ,  0.45933168,  0.36743057,  0.38248841,\n",
       "          0.        ,  0.        ,  0.47067821,  0.34632843,  0.        ]])"
      ]
     },
     "execution_count": 6,
     "metadata": {},
     "output_type": "execute_result"
    }
   ],
   "source": [
    "A = np.multiply(S, k3)\n",
    "A"
   ]
  },
  {
   "cell_type": "code",
   "execution_count": 7,
   "metadata": {},
   "outputs": [
    {
     "data": {
      "image/png": "[encoded data removed]",
      "text/plain": [
       "<Figure size 432x288 with 1 Axes>"
      ]
     },
     "metadata": {},
     "output_type": "display_data"
    }
   ],
   "source": [
    "import networkx as nx\n",
    "G = nx.from_numpy_matrix(A)\n",
    "nx.draw(G, pos=nx.spectral_layout(G))"
   ]
  }
 ],
 "metadata": {
  "interpreter": {
   "hash": "b5df8a5a1b0b04dde7bcf9db630bf09cbe1a9baef0b41caad4dce9c60ece34f4"
  },
  "kernelspec": {
   "display_name": "Python 3.9.0 ('py39')",
   "language": "python",
   "name": "python3"
  },
  "language_info": {
   "codemirror_mode": {
    "name": "ipython",
    "version": 3
   },
   "file_extension": ".py",
   "mimetype": "text/x-python",
   "name": "python",
   "nbconvert_exporter": "python",
   "pygments_lexer": "ipython3",
   "version": "3.9.0"
  },
  "orig_nbformat": 4
 },
 "nbformat": 4,
 "nbformat_minor": 2
}
